{
 "cells": [
  {
   "cell_type": "code",
   "execution_count": 9,
   "metadata": {},
   "outputs": [
    {
     "name": "stdout",
     "output_type": "stream",
     "text": [
      "Missing keys\n",
      "\n",
      "<Foo v1 v2 v3 >\n",
      "v1\n",
      "v3\n",
      "\n"
     ]
    }
   ],
   "source": [
    "attributes = {'k1': 'attr1',\n",
    "              'k2': 'attr2',\n",
    "              'k3': 'attr3',\n",
    "              'k4': 'attr4'}\n",
    "\n",
    "\n",
    "class Foo:\n",
    "\n",
    "    def __init__(self, attr1='', attr2='', attr3='', attr4=''):\n",
    "        self.attr1 = attr1\n",
    "        self.attr2 = attr2\n",
    "        self.attr3 = attr3\n",
    "        self.attr4 = attr4\n",
    "\n",
    "\n",
    "    def __repr__(self):\n",
    "        return '<Foo {} {} {} {}>'.format(self.attr1,\n",
    "                                          self.attr2,\n",
    "                                          self.attr3,\n",
    "                                          self.attr4)\n",
    "\n",
    "    def __str__(self):\n",
    "        return '__Foo__'\n",
    "\n",
    "\n",
    "if __name__ == '__main__':\n",
    "\n",
    "    data = {'k1':'v1',\n",
    "            'k2':'v2',\n",
    "            'k3':'v3'}\n",
    "\n",
    "    try:\n",
    "        foo = Foo(data['k1'], data['k2'], data['k3'], data['k4'])\n",
    "        print(foo.__repr__())\n",
    "\n",
    "    except KeyError:\n",
    "        foo = Foo()\n",
    "        print('Missing keys\\n')\n",
    "        for key in data.keys():\n",
    "            setattr(foo,  attributes[key], data[key])\n",
    "            \n",
    "        print(foo.__repr__())\n",
    "        print(foo.attr1)\n",
    "        print(foo.attr3)\n",
    "        print(foo.attr4)\n"
   ]
  },
  {
   "cell_type": "code",
   "execution_count": null,
   "metadata": {},
   "outputs": [],
   "source": []
  }
 ],
 "metadata": {
  "kernelspec": {
   "display_name": "Python 3",
   "language": "python",
   "name": "python3"
  },
  "language_info": {
   "codemirror_mode": {
    "name": "ipython",
    "version": 3
   },
   "file_extension": ".py",
   "mimetype": "text/x-python",
   "name": "python",
   "nbconvert_exporter": "python",
   "pygments_lexer": "ipython3",
   "version": "3.6.7"
  }
 },
 "nbformat": 4,
 "nbformat_minor": 2
}
