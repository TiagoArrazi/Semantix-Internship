{
 "cells": [
  {
   "cell_type": "code",
   "execution_count": 2,
   "metadata": {},
   "outputs": [],
   "source": [
    "import time"
   ]
  },
  {
   "cell_type": "code",
   "execution_count": 53,
   "metadata": {},
   "outputs": [],
   "source": [
    "def exec_time(function):\n",
    "    def wrapper(*args, **kwargs):\n",
    "        start = time.time()\n",
    "        returned_value = function(*args, **kwargs)\n",
    "        end = time.time()\n",
    "        \n",
    "        print(f'[{function.__name__}] | Total execution time: {end - start} | Return value: {returned_value}')\n",
    "        \n",
    "        return returned_value\n",
    "        \n",
    "    return wrapper\n",
    "        "
   ]
  },
  {
   "cell_type": "code",
   "execution_count": 32,
   "metadata": {},
   "outputs": [],
   "source": [
    "@exec_time\n",
    "def sample_function_1():\n",
    "    for n in range(1000000):\n",
    "        pass\n"
   ]
  },
  {
   "cell_type": "code",
   "execution_count": 55,
   "metadata": {},
   "outputs": [],
   "source": [
    "@exec_time\n",
    "def sample_function_2(element_1, element_2):\n",
    "    return element_1 + element_2\n"
   ]
  },
  {
   "cell_type": "code",
   "execution_count": 58,
   "metadata": {},
   "outputs": [
    {
     "name": "stdout",
     "output_type": "stream",
     "text": [
      "[sample_function_1] Total execution time: 0.035186767578125\n",
      "[sample_function_2] Total execution time: 1.9073486328125e-06\n"
     ]
    }
   ],
   "source": [
    "if __name__ == '__main__':\n",
    "    sample_function_1()\n",
    "    sample_function_2(1, 2)\n",
    "    "
   ]
  }
 ],
 "metadata": {
  "kernelspec": {
   "display_name": "Python 3",
   "language": "python",
   "name": "python3"
  },
  "language_info": {
   "codemirror_mode": {
    "name": "ipython",
    "version": 3
   },
   "file_extension": ".py",
   "mimetype": "text/x-python",
   "name": "python",
   "nbconvert_exporter": "python",
   "pygments_lexer": "ipython3",
   "version": "3.6.8"
  }
 },
 "nbformat": 4,
 "nbformat_minor": 2
}
